{
 "cells": [
  {
   "cell_type": "markdown",
   "id": "premier-breeding",
   "metadata": {},
   "source": [
    "# Stand down activitiy\n",
    "\n",
    "Slack back your notebook by 6 EDT.  Don't worry if you if you don't complete it. Do as much as you can, and Slack it back."
   ]
  },
  {
   "cell_type": "markdown",
   "id": "speaking-filename",
   "metadata": {},
   "source": [
    "Consider the following matrix `X` representing 100 records each with three features."
   ]
  },
  {
   "cell_type": "code",
   "execution_count": null,
   "id": "measured-princess",
   "metadata": {},
   "outputs": [],
   "source": [
    "np.random.seed(42)\n",
    "\n",
    "import numpy as np\n",
    "from numpy.random import normal\n",
    "\n",
    "feature_1 = normal(0,1,100)\n",
    "feature_2 = normal(1,1,100)\n",
    "feature_3 = normal(2,1,100)\n",
    "\n",
    "X = np.array([feature_1, feature_2, feature_3]).T"
   ]
  },
  {
   "cell_type": "markdown",
   "id": "happy-leisure",
   "metadata": {},
   "source": [
    "We have a continuous label `y` which we assume has an index which aligns with the X matrix above."
   ]
  },
  {
   "cell_type": "code",
   "execution_count": null,
   "id": "ongoing-baptist",
   "metadata": {},
   "outputs": [],
   "source": [
    "y = np.random.uniform(-100,100,100)"
   ]
  },
  {
   "cell_type": "markdown",
   "id": "equivalent-register",
   "metadata": {},
   "source": [
    "# Task 1\n",
    "Fit a linear regression model on X and y. "
   ]
  },
  {
   "cell_type": "code",
   "execution_count": 1,
   "id": "original-marketing",
   "metadata": {},
   "outputs": [],
   "source": [
    "from sklearn.linear_model import LinearRegression\n",
    "\n",
    "# your code here"
   ]
  },
  {
   "cell_type": "markdown",
   "id": "under-investment",
   "metadata": {},
   "source": [
    "# Task 2 \n",
    "Use the predict method of the fit linear regression to create a set of predictions `y_hat`.   \n",
    "Then pass those predictions into the mean_squared_error function from sklearn metrics and store in `mse`."
   ]
  },
  {
   "cell_type": "code",
   "execution_count": null,
   "id": "every-value",
   "metadata": {},
   "outputs": [],
   "source": [
    "from sklearn.metrics import mean_squared_error\n",
    "\n",
    "y_hat = None\n",
    "mse = None"
   ]
  },
  {
   "cell_type": "code",
   "execution_count": null,
   "id": "direct-italy",
   "metadata": {},
   "outputs": [],
   "source": [
    "assert mse == 3792.519308945476"
   ]
  },
  {
   "cell_type": "markdown",
   "id": "freelance-reducing",
   "metadata": {},
   "source": [
    "Print out the `coef_` and `intercept_` attributes now stored in the `lr` object"
   ]
  },
  {
   "cell_type": "code",
   "execution_count": null,
   "id": "adult-library",
   "metadata": {},
   "outputs": [],
   "source": [
    "# take a peek at the coefficients and intercept"
   ]
  },
  {
   "cell_type": "markdown",
   "id": "transsexual-masters",
   "metadata": {},
   "source": [
    "# Task 3\n",
    "Lastly, recreate the predictions `y_hat` by taking the dot product of the X matrix and the coef_ array, and adding the intercept_ term.  \n",
    "Feed those predictions into the mean_squared_error function.  \n",
    "**Hint** X is an ndarray, so you can use the .dot() method chained off its end."
   ]
  },
  {
   "cell_type": "code",
   "execution_count": null,
   "id": "urban-richards",
   "metadata": {},
   "outputs": [],
   "source": [
    "# Replace None with your code\n",
    "y_hat_by_hand = None\n",
    "mse_by_hand = None"
   ]
  },
  {
   "cell_type": "markdown",
   "id": "confused-garage",
   "metadata": {},
   "source": [
    "Confirm that your by hand predictions are the same as the result of the predict method using the assert statement below."
   ]
  },
  {
   "cell_type": "code",
   "execution_count": null,
   "id": "nonprofit-imagination",
   "metadata": {},
   "outputs": [],
   "source": [
    "assert mse == mse_by_hand"
   ]
  }
 ],
 "metadata": {
  "kernelspec": {
   "display_name": "learn-env",
   "language": "python",
   "name": "learn-env"
  },
  "language_info": {
   "codemirror_mode": {
    "name": "ipython",
    "version": 3
   },
   "file_extension": ".py",
   "mimetype": "text/x-python",
   "name": "python",
   "nbconvert_exporter": "python",
   "pygments_lexer": "ipython3",
   "version": "3.7.3"
  }
 },
 "nbformat": 4,
 "nbformat_minor": 5
}
