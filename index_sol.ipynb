{
 "cells": [
  {
   "cell_type": "markdown",
   "id": "tough-patrol",
   "metadata": {},
   "source": [
    "Consider the following matrix `X` representing 100 records each with three features."
   ]
  },
  {
   "cell_type": "code",
   "execution_count": 69,
   "id": "cloudy-spending",
   "metadata": {},
   "outputs": [],
   "source": [
    "np.random.seed(42)\n",
    "\n",
    "import numpy as np\n",
    "from numpy.random import normal\n",
    "\n",
    "feature_1 = normal(0,1,100)\n",
    "feature_2 = normal(1,1,100)\n",
    "feature_3 = normal(2,1,100)\n",
    "\n",
    "X = np.array([feature_1, feature_2, feature_3]).T\n"
   ]
  },
  {
   "cell_type": "markdown",
   "id": "reverse-address",
   "metadata": {},
   "source": [
    "We have a continuous label `y` whose index aligns with the X matrix above."
   ]
  },
  {
   "cell_type": "code",
   "execution_count": 70,
   "id": "senior-vegetable",
   "metadata": {},
   "outputs": [],
   "source": [
    "#The target is a 1 dimensional array\n",
    "y = np.random.uniform(-100,100,100)\n"
   ]
  },
  {
   "cell_type": "markdown",
   "id": "latin-louis",
   "metadata": {},
   "source": [
    "Fit a linear regression model on X and y. "
   ]
  },
  {
   "cell_type": "code",
   "execution_count": 71,
   "id": "mexican-first",
   "metadata": {},
   "outputs": [],
   "source": [
    "from sklearn.linear_model import LinearRegression\n",
    "# your code hear"
   ]
  },
  {
   "cell_type": "code",
   "execution_count": 72,
   "id": "functioning-grain",
   "metadata": {},
   "outputs": [
    {
     "data": {
      "text/plain": [
       "LinearRegression()"
      ]
     },
     "execution_count": 72,
     "metadata": {},
     "output_type": "execute_result"
    }
   ],
   "source": [
    "#__SOLUTION__\n",
    "from sklearn.linear_model import LinearRegression\n",
    "lr = LinearRegression()\n",
    "lr.fit(X,y)\n"
   ]
  },
  {
   "cell_type": "markdown",
   "id": "wooden-coordinator",
   "metadata": {},
   "source": [
    "Use the predict method of the fit linear regression to create a set of predictions `y_hat`. \n",
    "Then pass those predictions into the mean_squared_error function from sklearn metrics."
   ]
  },
  {
   "cell_type": "code",
   "execution_count": 76,
   "id": "billion-india",
   "metadata": {},
   "outputs": [],
   "source": [
    "from sklearn.metrics import mean_squared_error\n",
    "y_hat = None\n",
    "mse = None"
   ]
  },
  {
   "cell_type": "code",
   "execution_count": 84,
   "id": "afraid-genius",
   "metadata": {},
   "outputs": [],
   "source": [
    "#__SOLUTION__\n",
    "mse = mean_squared_error(y, lr.predict(X))"
   ]
  },
  {
   "cell_type": "code",
   "execution_count": 85,
   "id": "seasonal-judges",
   "metadata": {},
   "outputs": [],
   "source": [
    "assert mse == 3792.519308945476"
   ]
  },
  {
   "cell_type": "markdown",
   "id": "frequent-netherlands",
   "metadata": {},
   "source": [
    "Print out the `coef_` and `intercept_` attributes now stored in the `lr` object"
   ]
  },
  {
   "cell_type": "code",
   "execution_count": 86,
   "id": "thrown-corps",
   "metadata": {},
   "outputs": [],
   "source": [
    "# print out the coef_ and intercept_ attributes"
   ]
  },
  {
   "cell_type": "markdown",
   "id": "musical-trinidad",
   "metadata": {},
   "source": [
    "Lastly, recreate the predictions `y_hat` by taking the dot product of the X matrix, the coef_ array, and adding the intercept_ turn.  \n",
    "Feed those predictions into the mean_squared_error function.  \n",
    "**Hint** X is an ndarray, so you can use the .dot() method chained off its end."
   ]
  },
  {
   "cell_type": "code",
   "execution_count": 92,
   "id": "bizarre-westminster",
   "metadata": {},
   "outputs": [],
   "source": [
    "# Replace None with your code\n",
    "y_hat_by_hand = None\n",
    "mse_by_hand = None"
   ]
  },
  {
   "cell_type": "code",
   "execution_count": 93,
   "id": "fuzzy-faith",
   "metadata": {},
   "outputs": [],
   "source": [
    "#__SOLUTION\n",
    "y_hat_by_hand = X.dot(lr.coef_) + lr.intercept_\n",
    "mse_by_hand = mean_squared_error(y, y_hat_by_hand)"
   ]
  },
  {
   "cell_type": "code",
   "execution_count": 95,
   "id": "appreciated-brooklyn",
   "metadata": {},
   "outputs": [],
   "source": [
    "assert mse == mse_by_hand"
   ]
  },
  {
   "cell_type": "code",
   "execution_count": null,
   "id": "alternate-mattress",
   "metadata": {},
   "outputs": [],
   "source": []
  }
 ],
 "metadata": {
  "kernelspec": {
   "display_name": "learn-env",
   "language": "python",
   "name": "learn-env"
  },
  "language_info": {
   "codemirror_mode": {
    "name": "ipython",
    "version": 3
   },
   "file_extension": ".py",
   "mimetype": "text/x-python",
   "name": "python",
   "nbconvert_exporter": "python",
   "pygments_lexer": "ipython3",
   "version": "3.7.3"
  }
 },
 "nbformat": 4,
 "nbformat_minor": 5
}
